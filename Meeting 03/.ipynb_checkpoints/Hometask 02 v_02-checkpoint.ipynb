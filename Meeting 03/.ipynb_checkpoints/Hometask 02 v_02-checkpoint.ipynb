{
 "cells": [
  {
   "cell_type": "code",
   "execution_count": 1,
   "metadata": {},
   "outputs": [],
   "source": [
    "import pandas as pd\n",
    "import numpy as np\n",
    "from sklearn import datasets\n",
    "from scipy.optimize import fmin_tnc\n"
   ]
  },
  {
   "cell_type": "code",
   "execution_count": 137,
   "metadata": {},
   "outputs": [],
   "source": [
    "iris = datasets.load_iris()\n",
    "\n",
    "data = pd.DataFrame(iris['data'])\n",
    "target = pd.DataFrame(iris['target'])\n",
    "dt = pd.concat([data, target], axis =1)\n",
    "dt.columns = ['sl', 'sw', 'pl', 'pw', 'type']\n",
    "dt = dt.loc[dt['type'] != 0]\n",
    "\n",
    "X1 = dt.drop('type', axis = 1)\n",
    "Y1 = dt['type'] - 1\n",
    "\n",
    "X1 = np.c_[np.ones((X1.shape[0], 1)), X1]\n",
    "Y1 = Y1[:, np.newaxis]"
   ]
  },
  {
   "cell_type": "code",
   "execution_count": 16,
   "metadata": {},
   "outputs": [],
   "source": [
    "def predict(theta, X):\n",
    "    return 1 / (1 + np.exp(- np.dot(X, theta)))"
   ]
  },
  {
   "cell_type": "code",
   "execution_count": 143,
   "metadata": {},
   "outputs": [],
   "source": [
    "lr = 0.05\n",
    "max_epoch = 1000\n",
    "gamma = 0.9\n",
    "eps = 0.00000001\n",
    "\n",
    "theta = np.random.normal(size=(X1.shape[1]))\n",
    "theta1 = theta.copy()\n",
    "theta2 = theta.copy()\n",
    "\n",
    "gradient_loss = []\n",
    "\n",
    "velocity_pred = np.zeros(X1.shape[1])\n",
    "velocity = np.zeros(X1.shape[1])\n",
    "nesterov_loss = []\n",
    "\n",
    "e_sq_grad = np.zeros(X1.shape[1])\n",
    "gradient = np.zeros(X1.shape[1])\n",
    "rmsp_loss = []\n"
   ]
  },
  {
   "cell_type": "markdown",
   "metadata": {},
   "source": [
    "*** SGD"
   ]
  },
  {
   "cell_type": "code",
   "execution_count": 144,
   "metadata": {},
   "outputs": [
    {
     "name": "stdout",
     "output_type": "stream",
     "text": [
      "[ 0.3036847   1.02279311 -0.98838147 -0.60160891 -1.91692144]\n"
     ]
    }
   ],
   "source": [
    "for _ in range(max_epoch):\n",
    "    sigm1 = predict(theta, X1)\n",
    "    theta -= lr * np.sum(np.dot((sigm1 - Y1.flatten()), X1))/len(sigm1)\n",
    "    loss1 = - np.mean(np.log(sigm1) * Y1 + np.log(1 - sigm1) * (1 - Y1))\n",
    "#    print(theta1)\n",
    "    gradient_loss.append(loss1)\n",
    "print(theta)"
   ]
  },
  {
   "cell_type": "markdown",
   "metadata": {},
   "source": [
    "*** Nesterov"
   ]
  },
  {
   "cell_type": "code",
   "execution_count": 145,
   "metadata": {},
   "outputs": [
    {
     "name": "stdout",
     "output_type": "stream",
     "text": [
      "[ 0.61877679  1.3378852  -0.67328938 -0.28651683 -1.60182936]\n"
     ]
    }
   ],
   "source": [
    "for _ in range(max_epoch):\n",
    "    sigm1 = predict(theta1, X1)\n",
    "    loss1 = - np.mean(np.log(sigm1) * Y1 + np.log(1 - sigm1) * (1 - Y1))\n",
    "    nesterov_loss.append(loss1)\n",
    "    sigm1 = predict(theta1 - gamma * velocity_pred, X1)\n",
    "    velocity = (gamma * velocity_pred + lr * np.sum(np.dot((sigm1 - Y1.flatten()), X1))) / len(sigm1)\n",
    "    theta1 -= velocity\n",
    "#    print(theta1)\n",
    "    velocity_pred = velocity\n",
    "\n",
    "print(theta1)"
   ]
  },
  {
   "cell_type": "markdown",
   "metadata": {},
   "source": [
    "*** rmsprop"
   ]
  },
  {
   "cell_type": "code",
   "execution_count": 146,
   "metadata": {},
   "outputs": [
    {
     "name": "stdout",
     "output_type": "stream",
     "text": [
      "[ 0.43075345  1.14986186 -0.86131271 -0.47454016 -1.78985269]\n"
     ]
    }
   ],
   "source": [
    "for _ in range(max_epoch):\n",
    "    sigm1 = predict(theta2, X1)\n",
    "    loss1 = - np.mean(np.log(sigm1) * Y1 + np.log(1 - sigm1) * (1 - Y1))\n",
    "    rmsp_loss.append(loss1)\n",
    "    \n",
    "    gradient = np.sum(np.dot((sigm1 - Y1.flatten()), X1))/len(sigm1)\n",
    "    \n",
    "    e_sq_grad = gamma * e_sq_grad + (1 - gamma)  * gradient ** 2\n",
    "    \n",
    "    theta2 -= lr * gradient / np.sqrt(e_sq_grad + eps)\n",
    "print(theta2)"
   ]
  },
  {
   "cell_type": "code",
   "execution_count": null,
   "metadata": {},
   "outputs": [],
   "source": []
  },
  {
   "cell_type": "code",
   "execution_count": null,
   "metadata": {},
   "outputs": [],
   "source": []
  },
  {
   "cell_type": "code",
   "execution_count": null,
   "metadata": {},
   "outputs": [],
   "source": []
  },
  {
   "cell_type": "code",
   "execution_count": null,
   "metadata": {},
   "outputs": [],
   "source": []
  },
  {
   "cell_type": "code",
   "execution_count": null,
   "metadata": {},
   "outputs": [],
   "source": []
  },
  {
   "cell_type": "code",
   "execution_count": null,
   "metadata": {},
   "outputs": [],
   "source": []
  },
  {
   "cell_type": "code",
   "execution_count": null,
   "metadata": {},
   "outputs": [],
   "source": []
  },
  {
   "cell_type": "code",
   "execution_count": null,
   "metadata": {},
   "outputs": [],
   "source": []
  }
 ],
 "metadata": {
  "kernelspec": {
   "display_name": "Python 3",
   "language": "python",
   "name": "python3"
  },
  "language_info": {
   "codemirror_mode": {
    "name": "ipython",
    "version": 3
   },
   "file_extension": ".py",
   "mimetype": "text/x-python",
   "name": "python",
   "nbconvert_exporter": "python",
   "pygments_lexer": "ipython3",
   "version": "3.7.6"
  }
 },
 "nbformat": 4,
 "nbformat_minor": 4
}
