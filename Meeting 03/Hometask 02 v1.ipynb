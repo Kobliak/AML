{
 "cells": [
  {
   "cell_type": "code",
   "execution_count": 1,
   "metadata": {},
   "outputs": [],
   "source": [
    "import pandas as pd\n",
    "import numpy as np\n",
    "import matplotlib.pyplot as plt\n",
    "from sklearn.base import BaseEstimator, ClassifierMixin\n",
    "#import numpy as np\n",
    "#import math\n",
    "#%matplotlib inline"
   ]
  },
  {
   "cell_type": "code",
   "execution_count": null,
   "metadata": {},
   "outputs": [],
   "source": [
    "lr = 0.1\n",
    "max_epoch = 100\n",
    "chunk_size = 5\n",
    "min_err = 0.1\n"
   ]
  },
  {
   "cell_type": "code",
   "execution_count": null,
   "metadata": {},
   "outputs": [],
   "source": [
    "def sigma(x):\n",
    "    return 1 / (1 + np.exp(-x))\n",
    "\n",
    "def fit(X, y=None):\n",
    "\n",
    "#    import time\n",
    "#    np.random.seed(int(time.time()))\n",
    "    eps = 1e-15\n",
    "    n, m = X.shape   \n",
    "#    sigma = self.__sigma\n",
    "#        chunk_size = self.chunk_size\n",
    "#        errors = np.empty(self.max_epoch)\n",
    "#        errors[:] = np.nan\n",
    "#        X_b = np.c_[X, np.ones(n)]\n",
    "#        self.theta = np.random.randn(m + 1, 1)\n",
    "#        Y = np.vstack(y)\n",
    "\n",
    "    for epoch in range(max_epoch):\n",
    "        lst = list(range(n))\n",
    "        np.random.shuffle(lst)\n",
    "        chunks = [lst[i : i+chunk_size] for i in range(0, n, chunk_size)]\n",
    "        for chunk in chunks:\n",
    "            xi = X[chunk]\n",
    "            yi = Y[chunk]\n",
    "            gradients = xi.T.dot(sigma(xi.dot(theta)) - yi)\n",
    "            theta = theta - lr * (gradients + self.penalty())\n",
    "            p = sigma(X_b.dot(self.theta))\n",
    "            p = np.clip(p, eps, 1-eps)\n",
    "            epoch_error = 1 / n * np.sum(-(Y * np.log(p) + (1 - Y)*np.log(1 - p)))\n",
    "            errors[epoch] = epoch_error\n",
    "            if epoch_error <= self.min_err:\n",
    "                break\n",
    "        self.errors = errors\n",
    "        return self\n",
    "\n",
    "   #Возвращение метки класса\n",
    "    def predict(self, X):\n",
    "        y_hat_proba = self.predict_proba(X)\n",
    "        y_hat = np.where(y_hat_proba[0] >= 0.5, 0, 1)\n",
    "        return y_hat\n"
   ]
  },
  {
   "cell_type": "code",
   "execution_count": null,
   "metadata": {},
   "outputs": [],
   "source": []
  },
  {
   "cell_type": "code",
   "execution_count": null,
   "metadata": {},
   "outputs": [],
   "source": []
  },
  {
   "cell_type": "code",
   "execution_count": null,
   "metadata": {},
   "outputs": [],
   "source": []
  },
  {
   "cell_type": "code",
   "execution_count": null,
   "metadata": {},
   "outputs": [],
   "source": []
  },
  {
   "cell_type": "code",
   "execution_count": null,
   "metadata": {},
   "outputs": [],
   "source": []
  },
  {
   "cell_type": "code",
   "execution_count": null,
   "metadata": {},
   "outputs": [],
   "source": []
  },
  {
   "cell_type": "code",
   "execution_count": null,
   "metadata": {},
   "outputs": [],
   "source": []
  }
 ],
 "metadata": {
  "kernelspec": {
   "display_name": "Python 3",
   "language": "python",
   "name": "python3"
  },
  "language_info": {
   "codemirror_mode": {
    "name": "ipython",
    "version": 3
   },
   "file_extension": ".py",
   "mimetype": "text/x-python",
   "name": "python",
   "nbconvert_exporter": "python",
   "pygments_lexer": "ipython3",
   "version": "3.7.6"
  }
 },
 "nbformat": 4,
 "nbformat_minor": 4
}
